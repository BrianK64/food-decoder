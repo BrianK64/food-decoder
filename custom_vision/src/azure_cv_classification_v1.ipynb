{
 "cells": [
  {
   "cell_type": "markdown",
   "metadata": {},
   "source": [
    "# Azure 커스텀 비전 API 호출을 통해서 모델을 서비스 제작에 활용"
   ]
  },
  {
   "cell_type": "markdown",
   "metadata": {},
   "source": [
    "## 라이브러리 등록"
   ]
  },
  {
   "cell_type": "code",
   "execution_count": null,
   "metadata": {},
   "outputs": [],
   "source": [
    "#pip install azure-cognitiveservices-vision-customvision"
   ]
  },
  {
   "cell_type": "code",
   "execution_count": null,
   "metadata": {},
   "outputs": [],
   "source": [
    "#pip install python-dotenv"
   ]
  },
  {
   "cell_type": "code",
   "execution_count": null,
   "metadata": {},
   "outputs": [],
   "source": [
    "# Azure의 Custom Vision 라이브러리를 추가. 예측을 위하여 prediction을 포함\n",
    "from azure.cognitiveservices.vision.customvision.prediction import CustomVisionPredictionClient\n",
    "\n",
    "# OpenAI 스펙에 맞춰서 Authentication을 처리할 수 있도록 해주는 코드\n",
    "from msrest.authentication import ApiKeyCredentials\n",
    "\n",
    "# Matplotlib의 pyplot을 사용하여 예측 결과를 그리기\n",
    "from matplotlib import pyplot as plt\n",
    "\n",
    "# Python Image 라이브러리로 이미지 그리기\n",
    "from PIL import Image, ImageDraw, ImageFont\n",
    "\n",
    "# 수학적 연산 패키지 포함\n",
    "import numpy as np"
   ]
  },
  {
   "cell_type": "markdown",
   "metadata": {},
   "source": [
    "## Custom Vision에 있는 값을 지정하여 클라이언트 인증"
   ]
  },
  {
   "cell_type": "markdown",
   "metadata": {},
   "source": [
    "보완성을 위해 환경변수에서 API 관련 정보를 불러와서 endpoint, key 등을 지정해주고 클라이언트 연동해주는 함수들 불러오기"
   ]
  },
  {
   "cell_type": "code",
   "execution_count": null,
   "metadata": {},
   "outputs": [],
   "source": [
    "from config import *"
   ]
  },
  {
   "cell_type": "markdown",
   "metadata": {},
   "source": [
    "### 커스텀 비전 포탈에서 만든 음식 이미지 분류 모델의 endpoint, key, project id, model name 지정\n",
    "* config에 포함되어있는 get_config() 함수를 이용하여 환경변수에서 모델의 endpoint, key, project_id, 그리고 model_name을 불러오기"
   ]
  },
  {
   "cell_type": "code",
   "execution_count": null,
   "metadata": {},
   "outputs": [],
   "source": [
    "config = get_config()\n",
    "\n",
    "ENDPOINT = config[\"ENDPOINT\"]\n",
    "KEY = config[\"KEY\"]\n",
    "PROJECT_ID = config[\"PROJECT_ID\"]\n",
    "MODEL_NAME = config[\"MODEL_NAME\"]"
   ]
  },
  {
   "cell_type": "markdown",
   "metadata": {},
   "source": [
    "### 커스텀 비전 모델을 사용할 클라이언트 인증\n",
    "* config에 포함되어있는 get_client() 함수를 이용하여 모델사용을 위한 클라이언트를 인증하고 등록"
   ]
  },
  {
   "cell_type": "code",
   "execution_count": null,
   "metadata": {},
   "outputs": [],
   "source": [
    "# 지정한 API KEY를 써서 커스텀 비전 모델을 사용할 클라이언트를 인증\n",
    "credentials = ApiKeyCredentials(in_headers = {\"Prediction-key\": KEY})\n",
    "# ENDPOINT를 써서 클라이언트 등록\n",
    "classifier = CustomVisionPredictionClient(endpoint = ENDPOINT, credentials = credentials)"
   ]
  },
  {
   "cell_type": "markdown",
   "metadata": {},
   "source": [
    "## 분류할 이미지 읽기\n",
    "* 테스트용으로 사용된 이미지는 AI-Hub 에서 데이터 다운로드 허가 승인을 받은 **한국 이미지(음식)** 데이터셋에 포함되어있는 김밥 이미지.\n",
    "* 개인 테스트용으로는 Kaggle이나 AI-Hub에 자동승인 또는 샘플 데이터 이용 권장."
   ]
  },
  {
   "cell_type": "code",
   "execution_count": null,
   "metadata": {},
   "outputs": [],
   "source": [
    "# 테스트 이미지 경로 지정\n",
    "image_file = \"gimbap.png\"\n",
    "# 테스트용 이미지 파일 보기\n",
    "image = Image.open(image_file)"
   ]
  },
  {
   "cell_type": "markdown",
   "metadata": {},
   "source": [
    "## 테스트용 이미지를 커스텀 비전 모델에 적용하여 결과 얻기"
   ]
  },
  {
   "cell_type": "code",
   "execution_count": null,
   "metadata": {},
   "outputs": [],
   "source": [
    "# 테스트 이미지를 열고 모델에 적용해서 결과를 저장\n",
    "with open(image_file, mode = \"rb\") as image_data:\n",
    "    results = classifier.classify_image(PROJECT_ID, MODEL_NAME, image_data)\n",
    "\n",
    "# 예측한 결과를 모두 출력 (텍스트로 표시됨)\n",
    "for prediction in results.predictions:\n",
    "    print(f\"음식: {prediction.tag_name}\\t\\t Probability: {prediction.probability:.2f}\")"
   ]
  },
  {
   "cell_type": "code",
   "execution_count": null,
   "metadata": {},
   "outputs": [],
   "source": [
    "type(results.predictions)"
   ]
  },
  {
   "cell_type": "markdown",
   "metadata": {},
   "source": [
    "* 커스텀 비전 모델이 예측한 결과들이 확률 높은 순서로 **list**형식으로 저장되어있음\n",
    "* 가장 높은 확률의 예측값만 필요하기 때문데 인덱스 0을 써서 이 값만 추출"
   ]
  },
  {
   "cell_type": "markdown",
   "metadata": {},
   "source": [
    "## 분류 결과들중 확률이 가장 높게 나온 태그 값 하나만 출력"
   ]
  },
  {
   "cell_type": "code",
   "execution_count": null,
   "metadata": {},
   "outputs": [],
   "source": [
    "# 테스트 이미지를 열고 모델에 적용해서 결과를 저장\n",
    "with open(image_file, mode = \"rb\") as image_data:\n",
    "    results = classifier.classify_image(PROJECT_ID, MODEL_NAME, image_data)\n",
    "\n",
    "plt.imshow(image)\n",
    "\n",
    "# 예측한 결과들중 확률이 가장 높게 나온 결과의 태그와 확률을 변수로 각각 지정\n",
    "prediction = results.predictions[0]\n",
    "food_label = prediction.tag_name\n",
    "prob = prediction.probability\n",
    "\n",
    "print(f\"음식: {food_label}\\t\\t Probability: {prob * 100:.2f}%\")"
   ]
  },
  {
   "cell_type": "markdown",
   "metadata": {},
   "source": [
    "# 음식종류별 영양성분정보가 표시되어있는 csv 파일을 이용해 커스텀 비전 모델이 예측한 음식에 대한 영양정보 추출"
   ]
  },
  {
   "cell_type": "markdown",
   "metadata": {},
   "source": [
    "## Imports"
   ]
  },
  {
   "cell_type": "code",
   "execution_count": null,
   "metadata": {},
   "outputs": [],
   "source": [
    "#데이터셋과 작업하기 위해 필요한 라이브러리\n",
    "import pandas as pd"
   ]
  },
  {
   "cell_type": "markdown",
   "metadata": {},
   "source": [
    "## csv파일을 pandas 데이터프레임으로 저장"
   ]
  },
  {
   "cell_type": "code",
   "execution_count": null,
   "metadata": {},
   "outputs": [],
   "source": [
    "food_db = pd.read_csv(\"sample_database.csv\", encoding = \"cp949\")"
   ]
  },
  {
   "cell_type": "markdown",
   "metadata": {},
   "source": [
    "데이터프레임 확인"
   ]
  },
  {
   "cell_type": "code",
   "execution_count": null,
   "metadata": {},
   "outputs": [],
   "source": [
    "food_db.head()      "
   ]
  },
  {
   "cell_type": "markdown",
   "metadata": {},
   "source": [
    "encoding을 cp949, utf-8-sig, euc-kr로 지정해서 데이터프레임을 불러와봤지만 특정 문자나 단어가 \"?\"로 표시되어 새로운 데이터 프레임을 직접 생성"
   ]
  },
  {
   "cell_type": "markdown",
   "metadata": {},
   "source": [
    "## Python 딕셔너리로부터 pandas 데이터프레임 생성"
   ]
  },
  {
   "cell_type": "markdown",
   "metadata": {},
   "source": [
    "* 각 음식에 대한 에너지, 수분, 단백질, 지방, 탄수화물, 그리고 당류는 정확한 정보 없이 테스트를 위해 임의로 지정한 값들이기때문에 실제 이용시 값 조정 또는 위 방법으로 개인의 데이터셋 사용 필요."
   ]
  },
  {
   "cell_type": "code",
   "execution_count": null,
   "metadata": {},
   "outputs": [],
   "source": [
    "nutrition_facts = {\n",
    "    \"식품명\": [\"김치찌개\", \"떡볶이\", \"김밥\"],\n",
    "    \"에너지(kcal)\": [19, 130, 157],\n",
    "    \"수분(g)\": [33.3, 52.7, 27.1],\n",
    "    \"단백질(g)\": [1.2, 3.2, 4.7],\n",
    "    \"지방(g)\": [0.53, 1.3, 1.83],\n",
    "    \"탄수화물(g)\": [2.33, 27.18, 29.79],\n",
    "    \"당류(g)\": [0.94, 4.43, 0.69]\n",
    "}"
   ]
  },
  {
   "cell_type": "markdown",
   "metadata": {},
   "source": [
    "딕셔너리를 pandas 데이터프레임으로 변환"
   ]
  },
  {
   "cell_type": "code",
   "execution_count": null,
   "metadata": {},
   "outputs": [],
   "source": [
    "temp = pd.DataFrame(nutrition_facts)"
   ]
  },
  {
   "cell_type": "markdown",
   "metadata": {},
   "source": [
    "생성된 데이터 프레임 확인"
   ]
  },
  {
   "cell_type": "code",
   "execution_count": null,
   "metadata": {},
   "outputs": [],
   "source": [
    "temp.head()"
   ]
  },
  {
   "cell_type": "markdown",
   "metadata": {},
   "source": [
    "# 커스텀 비전 분류 데모"
   ]
  },
  {
   "cell_type": "markdown",
   "metadata": {},
   "source": [
    "* 총 3가지의 음식 종류의 각 3개의 이미지를 커스텀 비전 모델울 아용하여 음식 종류를 예측하고, 예측한 값으로 데이터베이스에서 영양정보를 추출해내는 과정 데모\n",
    "* 테스트용으로 사용된 이미지들은 AI-Hub 에서 데이터 다운로드 허가 승인을 받은 **한국 이미지(음식)** 데이터셋에 포함되어있는 이미지들.\n",
    "* 개인 테스트용으로는 Kaggle이나 AI-Hub에 자동승인 또는 샘플 데이터 이용 권장."
   ]
  },
  {
   "cell_type": "code",
   "execution_count": null,
   "metadata": {},
   "outputs": [],
   "source": [
    "import time"
   ]
  },
  {
   "cell_type": "markdown",
   "metadata": {},
   "source": [
    "로컬에 저장된 샘플 이미지 경로들 리스트에 저장하기\n",
    "* 사용된 이미지 통계\n",
    "    * 음식 종류: 김치찌개, 떡볶이, 김밥\n",
    "    * 이미지수: 각 종류별 3개씩 총 9개"
   ]
  },
  {
   "cell_type": "code",
   "execution_count": null,
   "metadata": {},
   "outputs": [],
   "source": [
    "ks = [\"sample_img/k1.jpg\", \"sample_img/k2.jpg\", \"sample_img/k3.jpg\"]\n",
    "ts = [\"sample_img/t1.jpg\", \"sample_img/t2.jpg\", \"sample_img/t3.jpg\"]\n",
    "gs = [\"sample_img/g1.jpg\", \"sample_img/g2.jpg\", \"sample_img/g3.jpg\"]\n",
    "\n",
    "food_samples = ks + ts+ gs"
   ]
  },
  {
   "cell_type": "markdown",
   "metadata": {},
   "source": [
    "이미지로 식품명 예측 후 그 식품명에 대한 영양정보 불러오기 데모"
   ]
  },
  {
   "cell_type": "code",
   "execution_count": null,
   "metadata": {},
   "outputs": [],
   "source": [
    "# 이미지 한개씩 모델에 적용\n",
    "for i, jpg in enumerate(food_samples):\n",
    "    image_file = jpg\n",
    "    image = Image.open(image_file)\n",
    "    \n",
    "    with open(image_file, mode = \"rb\") as image_data:\n",
    "            results = classifier.classify_image(PROJECT_ID, MODEL_NAME, image_data)\n",
    "    \n",
    "    print(\"#\" * 80)\n",
    "    time.sleep(0.5)\n",
    "    print(f\"Image #{i + 1}\")\n",
    "\n",
    "    # 예측할 이미지 열기기\n",
    "    plt.imshow(image)\n",
    "    plt.axis(\"off\")\n",
    "    plt.show()\n",
    "\n",
    "    time.sleep(1)\n",
    "    print(\"Evaluating...\\n\")\n",
    "    time.sleep(2)\n",
    "\n",
    "    # 모델이 예측한 값들중 가장 높음 확률로 예측한 식품명과 그 확률을 변수로 저장장\n",
    "    prediction = results.predictions[0]\n",
    "    food_label = prediction.tag_name\n",
    "    prob = prediction.probability\n",
    "    print(f\"음식: {food_label}\\t\\t Probability: {prob * 100:.2f}%\\n\")\n",
    "\n",
    "    time.sleep(1)\n",
    "    print(\"*\" * 60)\n",
    "    time.sleep(0.5)\n",
    "\n",
    "    # 예측한 식품명으로 데이터베이스에서 영양정보 추출출\n",
    "    print(f\"Retrieving nutrition facts for {food_label} from the database...\")\n",
    "    time.sleep(2)\n",
    "    nutrition = temp.loc[temp[\"식품명\"] == food_label]\n",
    "    display(nutrition)\n",
    "    time.sleep(2)"
   ]
  }
 ],
 "metadata": {
  "kernelspec": {
   "display_name": "Python 3",
   "language": "python",
   "name": "python3"
  },
  "language_info": {
   "codemirror_mode": {
    "name": "ipython",
    "version": 3
   },
   "file_extension": ".py",
   "mimetype": "text/x-python",
   "name": "python",
   "nbconvert_exporter": "python",
   "pygments_lexer": "ipython3",
   "version": "3.13.1"
  }
 },
 "nbformat": 4,
 "nbformat_minor": 2
}
